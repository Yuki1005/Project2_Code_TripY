{
 "cells": [
  {
   "cell_type": "code",
   "execution_count": 73,
   "metadata": {},
   "outputs": [],
   "source": [
    "import urllib.request\n",
    "from bs4 import BeautifulSoup\n",
    "import datetime\n",
    "import pandas as pd\n",
    "\n",
    "class TrainOpt:\n",
    "    def __init__(self,geo):\n",
    "        self.departure_time = datetime.datetime(2023,10,1,10,00)\n",
    "        self.geo = geo\n",
    "    \n",
    "    def get_arrivalTime(self):\n",
    "        print(len(self.geo))\n",
    "        datalist = []\n",
    "        dt_url = \"&y={0}&m={1}&d={2}&hh={3}&m1={4}&m2={5}\".format(\n",
    "            \"{0:04d}\".format(self.departure_time.year),\n",
    "            \"{0:02d}\".format(self.departure_time.month),\n",
    "            \"{0:02d}\".format(self.departure_time.day),\n",
    "            \"{0:02d}\".format(self.departure_time.hour),\n",
    "            \"{0:02d}\".format(self.departure_time.minute)[0],\n",
    "            \"{0:02d}\".format(self.departure_time.minute)[1])\n",
    "        url0 = 'https://transit.yahoo.co.jp/search/result?from='\n",
    "        url1 = '&flatlon=&to='\n",
    "        url2 = '&viacode=&viacode=&viacode='\n",
    "        url3 = '&shin=&ex=&hb=&al=&lb=&sr=&type=1&ws=3&s=&ei=&fl=1&tl=3&expkind=1&ticket=ic&mtf=1&userpass=0&detour_id=&fromgid=&togid=&kw='\n",
    "        \n",
    "        for i in range(int(len(self.geo)/2)):\n",
    "            departure_point = self.geo[2*i].split(\"/\")[5]\n",
    "            for j in range(i,int(len(self.geo)/2-2)):\n",
    "                print(2*j+2)\n",
    "                arival_point = self.geo[2*j+2].split(\"/\")[5]\n",
    "                print(2*i,self.geo[2*i].split(\"/\")[5])\n",
    "                print(2*j+2,self.geo[2*j+2].split(\"/\")[5])\n",
    "                url = url0 + departure_point + url1 + arival_point + url2 + dt_url + url3\n",
    "\n",
    "                req = urllib.request.urlopen(url)\n",
    "                html = req.read().decode('utf-8')\n",
    "                soup = BeautifulSoup(html, 'html.parser')\n",
    "                time = soup.select(\"li.time\") # 到着時間の記載部分を抽出\n",
    "                print(time)\n",
    "\n",
    "                arrive = time[2].select_one('span.mark').text.strip() # <span class=\"mark\">で囲まれたテキストを抽出 \n",
    "\n",
    "                arrival_time = datetime.datetime(\n",
    "                    self.departure_time.year,\n",
    "                    self.departure_time.month,\n",
    "                    self.departure_time.day,\n",
    "                    int(arrive[0:2]),\n",
    "                    int(arrive[3:5]))\n",
    "                datalist.append([i,j+1,arrival_time-self.departure_time])\n",
    "        transfer_time = pd.DataFrame(datalist, columns=[\"出発地点\",\"行先\",\"移動時間[s]\"])\n",
    "\n",
    "        return transfer_time\n",
    "\n",
    "class a:\n",
    "    def __init__(self,geo):\n",
    "        self.departure_time = datetime.datetime(2023,10,1,10,00)\n",
    "        self.geo = geo\n",
    "        self.a = TrainOpt.get_arrivalTime(self)"
   ]
  },
  {
   "cell_type": "code",
   "execution_count": 75,
   "metadata": {},
   "outputs": [
    {
     "name": "stdout",
     "output_type": "stream",
     "text": [
      "18\n",
      "2\n",
      "0 %E4%BA%AC%E9%83%BD%E9%A7%85\n",
      "2 %E8%B3%80%E8%8C%82%E5%BE%A1%E7%A5%96%E7%A5%9E%E7%A4%BE%EF%BC%88%E4%B8%8B%E9%B4%A8%E7%A5%9E%E7%A4%BE%EF%BC%89\n",
      "[<li class=\"time\">2023年10月01日(日)<span>10:00<!-- -->出発</span></li>, <li class=\"time\">10:05<!-- -->→<span class=\"mark\">10:35</span><span class=\"small\">30分</span></li>, <li class=\"time\"><span>10:05<!-- -->発→<span class=\"mark\">10:35<!-- -->着</span></span>30分<!-- -->（乗車<!-- -->11分<!-- -->）</li>]\n",
      "4\n",
      "0 %E4%BA%AC%E9%83%BD%E9%A7%85\n",
      "4 %E4%BC%8F%E8%A6%8B%E7%A8%B2%E8%8D%B7%E5%A4%A7%E7%A4%BE\n",
      "[<li class=\"time\">2023年10月01日(日)<span>10:00<!-- -->出発</span></li>, <li class=\"time\">10:00<!-- -->→<span class=\"mark\">10:09</span><span class=\"small\">9分</span></li>, <li class=\"time\"><span>10:00<!-- -->発→<span class=\"mark\">10:09<!-- -->着</span></span>9分<!-- -->（乗車<!-- -->5分<!-- -->）</li>]\n",
      "6\n",
      "0 %E4%BA%AC%E9%83%BD%E9%A7%85\n",
      "6 %E6%B8%85%E6%B0%B4%E5%AF%BA\n",
      "[]\n"
     ]
    },
    {
     "ename": "IndexError",
     "evalue": "list index out of range",
     "output_type": "error",
     "traceback": [
      "\u001b[1;31m---------------------------------------------------------------------------\u001b[0m",
      "\u001b[1;31mIndexError\u001b[0m                                Traceback (most recent call last)",
      "\u001b[1;32mc:\\Users\\yhira\\OneDrive\\デスクトップ\\Project2_Code\\train.ipynb セル 2\u001b[0m line \u001b[0;36m4\n\u001b[0;32m      <a href='vscode-notebook-cell:/c%3A/Users/yhira/OneDrive/%E3%83%87%E3%82%B9%E3%82%AF%E3%83%88%E3%83%83%E3%83%97/Project2_Code/train.ipynb#W1sZmlsZQ%3D%3D?line=0'>1</a>\u001b[0m f \u001b[39m=\u001b[39m \u001b[39mopen\u001b[39m(\u001b[39m'\u001b[39m\u001b[39mgoogle_point.txt\u001b[39m\u001b[39m'\u001b[39m, \u001b[39m'\u001b[39m\u001b[39mr\u001b[39m\u001b[39m'\u001b[39m, encoding\u001b[39m=\u001b[39m\u001b[39m'\u001b[39m\u001b[39mUTF-8\u001b[39m\u001b[39m'\u001b[39m) \u001b[39m#テキストファイルを一つ目の''の中に入力してください\u001b[39;00m\n\u001b[0;32m      <a href='vscode-notebook-cell:/c%3A/Users/yhira/OneDrive/%E3%83%87%E3%82%B9%E3%82%AF%E3%83%88%E3%83%83%E3%83%97/Project2_Code/train.ipynb#W1sZmlsZQ%3D%3D?line=1'>2</a>\u001b[0m pos_text \u001b[39m=\u001b[39m f\u001b[39m.\u001b[39mreadlines()\n\u001b[1;32m----> <a href='vscode-notebook-cell:/c%3A/Users/yhira/OneDrive/%E3%83%87%E3%82%B9%E3%82%AF%E3%83%88%E3%83%83%E3%83%97/Project2_Code/train.ipynb#W1sZmlsZQ%3D%3D?line=3'>4</a>\u001b[0m a(geo \u001b[39m=\u001b[39;49m pos_text)\n",
      "\u001b[1;32mc:\\Users\\yhira\\OneDrive\\デスクトップ\\Project2_Code\\train.ipynb セル 2\u001b[0m line \u001b[0;36m5\n\u001b[0;32m     <a href='vscode-notebook-cell:/c%3A/Users/yhira/OneDrive/%E3%83%87%E3%82%B9%E3%82%AF%E3%83%88%E3%83%83%E3%83%97/Project2_Code/train.ipynb#W1sZmlsZQ%3D%3D?line=55'>56</a>\u001b[0m \u001b[39mself\u001b[39m\u001b[39m.\u001b[39mdeparture_time \u001b[39m=\u001b[39m datetime\u001b[39m.\u001b[39mdatetime(\u001b[39m2023\u001b[39m,\u001b[39m10\u001b[39m,\u001b[39m1\u001b[39m,\u001b[39m10\u001b[39m,\u001b[39m00\u001b[39m)\n\u001b[0;32m     <a href='vscode-notebook-cell:/c%3A/Users/yhira/OneDrive/%E3%83%87%E3%82%B9%E3%82%AF%E3%83%88%E3%83%83%E3%83%97/Project2_Code/train.ipynb#W1sZmlsZQ%3D%3D?line=56'>57</a>\u001b[0m \u001b[39mself\u001b[39m\u001b[39m.\u001b[39mgeo \u001b[39m=\u001b[39m geo\n\u001b[1;32m---> <a href='vscode-notebook-cell:/c%3A/Users/yhira/OneDrive/%E3%83%87%E3%82%B9%E3%82%AF%E3%83%88%E3%83%83%E3%83%97/Project2_Code/train.ipynb#W1sZmlsZQ%3D%3D?line=57'>58</a>\u001b[0m \u001b[39mself\u001b[39m\u001b[39m.\u001b[39ma \u001b[39m=\u001b[39m TrainOpt\u001b[39m.\u001b[39;49mget_arrivalTime(\u001b[39mself\u001b[39;49m)\n",
      "\u001b[1;32mc:\\Users\\yhira\\OneDrive\\デスクトップ\\Project2_Code\\train.ipynb セル 2\u001b[0m line \u001b[0;36m4\n\u001b[0;32m     <a href='vscode-notebook-cell:/c%3A/Users/yhira/OneDrive/%E3%83%87%E3%82%B9%E3%82%AF%E3%83%88%E3%83%83%E3%83%97/Project2_Code/train.ipynb#W1sZmlsZQ%3D%3D?line=37'>38</a>\u001b[0m time \u001b[39m=\u001b[39m soup\u001b[39m.\u001b[39mselect(\u001b[39m\"\u001b[39m\u001b[39mli.time\u001b[39m\u001b[39m\"\u001b[39m) \u001b[39m# 到着時間の記載部分を抽出\u001b[39;00m\n\u001b[0;32m     <a href='vscode-notebook-cell:/c%3A/Users/yhira/OneDrive/%E3%83%87%E3%82%B9%E3%82%AF%E3%83%88%E3%83%83%E3%83%97/Project2_Code/train.ipynb#W1sZmlsZQ%3D%3D?line=38'>39</a>\u001b[0m \u001b[39mprint\u001b[39m(time)\n\u001b[1;32m---> <a href='vscode-notebook-cell:/c%3A/Users/yhira/OneDrive/%E3%83%87%E3%82%B9%E3%82%AF%E3%83%88%E3%83%83%E3%83%97/Project2_Code/train.ipynb#W1sZmlsZQ%3D%3D?line=40'>41</a>\u001b[0m arrive \u001b[39m=\u001b[39m time[\u001b[39m2\u001b[39;49m]\u001b[39m.\u001b[39mselect_one(\u001b[39m'\u001b[39m\u001b[39mspan.mark\u001b[39m\u001b[39m'\u001b[39m)\u001b[39m.\u001b[39mtext\u001b[39m.\u001b[39mstrip() \u001b[39m# <span class=\"mark\">で囲まれたテキストを抽出 \u001b[39;00m\n\u001b[0;32m     <a href='vscode-notebook-cell:/c%3A/Users/yhira/OneDrive/%E3%83%87%E3%82%B9%E3%82%AF%E3%83%88%E3%83%83%E3%83%97/Project2_Code/train.ipynb#W1sZmlsZQ%3D%3D?line=42'>43</a>\u001b[0m arrival_time \u001b[39m=\u001b[39m datetime\u001b[39m.\u001b[39mdatetime(\n\u001b[0;32m     <a href='vscode-notebook-cell:/c%3A/Users/yhira/OneDrive/%E3%83%87%E3%82%B9%E3%82%AF%E3%83%88%E3%83%83%E3%83%97/Project2_Code/train.ipynb#W1sZmlsZQ%3D%3D?line=43'>44</a>\u001b[0m     \u001b[39mself\u001b[39m\u001b[39m.\u001b[39mdeparture_time\u001b[39m.\u001b[39myear,\n\u001b[0;32m     <a href='vscode-notebook-cell:/c%3A/Users/yhira/OneDrive/%E3%83%87%E3%82%B9%E3%82%AF%E3%83%88%E3%83%83%E3%83%97/Project2_Code/train.ipynb#W1sZmlsZQ%3D%3D?line=44'>45</a>\u001b[0m     \u001b[39mself\u001b[39m\u001b[39m.\u001b[39mdeparture_time\u001b[39m.\u001b[39mmonth,\n\u001b[0;32m     <a href='vscode-notebook-cell:/c%3A/Users/yhira/OneDrive/%E3%83%87%E3%82%B9%E3%82%AF%E3%83%88%E3%83%83%E3%83%97/Project2_Code/train.ipynb#W1sZmlsZQ%3D%3D?line=45'>46</a>\u001b[0m     \u001b[39mself\u001b[39m\u001b[39m.\u001b[39mdeparture_time\u001b[39m.\u001b[39mday,\n\u001b[0;32m     <a href='vscode-notebook-cell:/c%3A/Users/yhira/OneDrive/%E3%83%87%E3%82%B9%E3%82%AF%E3%83%88%E3%83%83%E3%83%97/Project2_Code/train.ipynb#W1sZmlsZQ%3D%3D?line=46'>47</a>\u001b[0m     \u001b[39mint\u001b[39m(arrive[\u001b[39m0\u001b[39m:\u001b[39m2\u001b[39m]),\n\u001b[0;32m     <a href='vscode-notebook-cell:/c%3A/Users/yhira/OneDrive/%E3%83%87%E3%82%B9%E3%82%AF%E3%83%88%E3%83%83%E3%83%97/Project2_Code/train.ipynb#W1sZmlsZQ%3D%3D?line=47'>48</a>\u001b[0m     \u001b[39mint\u001b[39m(arrive[\u001b[39m3\u001b[39m:\u001b[39m5\u001b[39m]))\n\u001b[0;32m     <a href='vscode-notebook-cell:/c%3A/Users/yhira/OneDrive/%E3%83%87%E3%82%B9%E3%82%AF%E3%83%88%E3%83%83%E3%83%97/Project2_Code/train.ipynb#W1sZmlsZQ%3D%3D?line=48'>49</a>\u001b[0m datalist\u001b[39m.\u001b[39mappend([i,j\u001b[39m+\u001b[39m\u001b[39m1\u001b[39m,arrival_time\u001b[39m-\u001b[39m\u001b[39mself\u001b[39m\u001b[39m.\u001b[39mdeparture_time])\n",
      "\u001b[1;31mIndexError\u001b[0m: list index out of range"
     ]
    }
   ],
   "source": [
    "f = open('google_point.txt', 'r', encoding='UTF-8') #テキストファイルを一つ目の''の中に入力してください\n",
    "pos_text = f.readlines()\n",
    "\n",
    "a(geo = pos_text)"
   ]
  }
 ],
 "metadata": {
  "kernelspec": {
   "display_name": "only-pip",
   "language": "python",
   "name": "python3"
  },
  "language_info": {
   "codemirror_mode": {
    "name": "ipython",
    "version": 3
   },
   "file_extension": ".py",
   "mimetype": "text/x-python",
   "name": "python",
   "nbconvert_exporter": "python",
   "pygments_lexer": "ipython3",
   "version": "3.11.3"
  }
 },
 "nbformat": 4,
 "nbformat_minor": 2
}
