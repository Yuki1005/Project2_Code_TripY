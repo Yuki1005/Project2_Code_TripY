{
 "cells": [
  {
   "cell_type": "code",
   "execution_count": null,
   "metadata": {},
   "outputs": [],
   "source": [
    "import numpy as np\n",
    "import pandas as pd\n",
    "import pulp\n",
    "from scipy.spatial import distance_matrix\n",
    "import itertools\n",
    "import matplotlib.pyplot as plt\n",
    "%matplotlib inline #Jupyterの場合\n",
    "\n",
    "customer_count = 10 #顧客数（id=0はdepot）\n",
    "vehicle_count = 4 #車両数\n",
    "vehicle_capacity = 50 #車両容量\n",
    "\n",
    "np.random.seed(seed=32)\n",
    "\n",
    "#各顧客のx,y座標をDataFrameとして作成\n",
    "df = pd.DataFrame({\"x\":np.random.randint(0,100, customer_count), \n",
    "                   \"y\":np.random.randint(0, 100, customer_count), \n",
    "                   \"demand\":np.random.randint(5, 20, customer_count)})\n",
    "\n",
    "#id=0はdepotなので，demand=0にする\n",
    "df.iloc[0].x = 50\n",
    "df.iloc[0].y = 50\n",
    "df.iloc[0].demand = 0\n",
    "\n",
    "#コストとしてノード間の直線距離を求める\n",
    "\n",
    "#修正前\n",
    "#cost = pd.DataFrame(distance_matrix(df.values, df.values), index=df.index, columns=df.index).values\n",
    "#修正後\n",
    "cost = pd.DataFrame(distance_matrix(df.loc[:,[\"x\",\"y\"]].values, df.loc[:,[\"x\",\"y\"]].values), index=df.index, columns=df.index).values\n",
    "\n",
    "df.head()"
   ]
  }
 ],
 "metadata": {
  "language_info": {
   "name": "python"
  },
  "orig_nbformat": 4
 },
 "nbformat": 4,
 "nbformat_minor": 2
}
