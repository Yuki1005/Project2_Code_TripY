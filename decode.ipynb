{
 "cells": [
  {
   "cell_type": "code",
   "execution_count": 29,
   "metadata": {},
   "outputs": [
    {
     "name": "stdout",
     "output_type": "stream",
     "text": [
      "武蔵野大学+有明キャンパス 35.6311616,139.7844807\n",
      "東京ビッグサイト 35.6305754,139.7903577\n"
     ]
    }
   ],
   "source": [
    "from urllib.parse import unquote\n",
    "import csv\n",
    "\n",
    "waketa_list = []\n",
    "\n",
    "with open('test.txt') as f:\n",
    "    for line in f:\n",
    "        waketa_list.append(line.split(\"/\"))\n",
    "\n",
    "for i in range(len(waketa_list)):\n",
    "    chimei = unquote(waketa_list[i][5])\n",
    "    zahyo_matomari = waketa_list[i][6].split(\",\")\n",
    "    zahyo = zahyo_matomari[0][1:] +\",\"+ zahyo_matomari[1]\n",
    "    print(chimei,zahyo)"
   ]
  },
  {
   "cell_type": "code",
   "execution_count": null,
   "metadata": {},
   "outputs": [],
   "source": []
  }
 ],
 "metadata": {
  "kernelspec": {
   "display_name": "only-pip",
   "language": "python",
   "name": "python3"
  },
  "language_info": {
   "codemirror_mode": {
    "name": "ipython",
    "version": 3
   },
   "file_extension": ".py",
   "mimetype": "text/x-python",
   "name": "python",
   "nbconvert_exporter": "python",
   "pygments_lexer": "ipython3",
   "version": "3.11.3"
  },
  "orig_nbformat": 4
 },
 "nbformat": 4,
 "nbformat_minor": 2
}
