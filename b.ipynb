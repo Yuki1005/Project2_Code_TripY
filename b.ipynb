{
 "cells": [
  {
   "cell_type": "code",
   "execution_count": 2,
   "metadata": {},
   "outputs": [
    {
     "data": {
      "text/plain": [
       "[['地名', 'latitude', 'longitude', 'stay_time'],\n",
       " ['京都市役所前', '35.0108986', '135.7688702', '0'],\n",
       " ['下鴨神社', '35.03701035', '135.77251465011756', '20'],\n",
       " ['伏見稲荷大社', '34.967519249999995', '135.77971008109822', '60'],\n",
       " ['清水寺', '34.994303', '135.7844388864188', '50'],\n",
       " ['銀閣寺', '35.0268996', '135.7983713692728', '40'],\n",
       " ['京都タワー', '34.9875598', '135.7593285404176', '30'],\n",
       " ['金閣寺', '35.03952925', '135.72953725309281', '40'],\n",
       " ['仁和寺', '35.029811699999996', '135.7141498602557', '50'],\n",
       " ['建仁寺', '35.0002572', '135.77374082582872', '50']]"
      ]
     },
     "execution_count": 2,
     "metadata": {},
     "output_type": "execute_result"
    }
   ],
   "source": [
    "import csv\n",
    "\n",
    "with open(\"geo_loc_pos.csv\", encoding=\"utf_8\") as f:\n",
    "    reader = csv.reader(f)\n",
    "    line = [row for row in reader]\n",
    "    \n",
    "line"
   ]
  },
  {
   "cell_type": "code",
   "execution_count": 5,
   "metadata": {},
   "outputs": [
    {
     "name": "stdout",
     "output_type": "stream",
     "text": [
      "京都市役所前, 御池通;二条停車場東山三条線, 六丁目, 梅屋町, 中京区, 京都市, 京都府, 604-0845, 日本\n",
      "下鴨神社, 左京区下鴨泉川59, 馬場, 下鴨森本町, 左京区, 京都市, 京都府, 606-0801, 日本\n",
      "伏見稲荷大社, 深草藪之内町, 伏見区, 京都市, 京都府, 612-0882, 日本\n",
      "清水寺, 茶わん坂, 清水一丁目, 東山区, 京都市, 京都府, 605-0862, 日本\n",
      "銀閣寺, 銀閣寺町, 左京区, 京都市, 京都府, 606-8402, 日本\n",
      "京都タワー, 烏丸地下通路, 東塩小路町, 下京区, 京都市, 京都府, 600-8216, 日本\n",
      "金閣寺, 金閣寺町, 北区, 京都市, 京都府, 603-8361, 日本\n",
      "仁和寺, 33, 御室大内, 右京区, 京都市, 京都府, 616-8092, 日本\n",
      "建仁寺, 団栗通, 祇園町南側, 東山区, 京都市, 京都府, 605-0074, 日本\n"
     ]
    },
    {
     "data": {
      "text/html": [
       "<div>\n",
       "<style scoped>\n",
       "    .dataframe tbody tr th:only-of-type {\n",
       "        vertical-align: middle;\n",
       "    }\n",
       "\n",
       "    .dataframe tbody tr th {\n",
       "        vertical-align: top;\n",
       "    }\n",
       "\n",
       "    .dataframe thead th {\n",
       "        text-align: right;\n",
       "    }\n",
       "</style>\n",
       "<table border=\"1\" class=\"dataframe\">\n",
       "  <thead>\n",
       "    <tr style=\"text-align: right;\">\n",
       "      <th></th>\n",
       "      <th>地名</th>\n",
       "      <th>latitude</th>\n",
       "      <th>longitude</th>\n",
       "      <th>stay_time</th>\n",
       "    </tr>\n",
       "  </thead>\n",
       "  <tbody>\n",
       "    <tr>\n",
       "      <th>0</th>\n",
       "      <td>京都市役所前</td>\n",
       "      <td>35.010899</td>\n",
       "      <td>135.768870</td>\n",
       "      <td>0</td>\n",
       "    </tr>\n",
       "    <tr>\n",
       "      <th>1</th>\n",
       "      <td>下鴨神社</td>\n",
       "      <td>35.037010</td>\n",
       "      <td>135.772515</td>\n",
       "      <td>20</td>\n",
       "    </tr>\n",
       "    <tr>\n",
       "      <th>2</th>\n",
       "      <td>伏見稲荷大社</td>\n",
       "      <td>34.967519</td>\n",
       "      <td>135.779710</td>\n",
       "      <td>60</td>\n",
       "    </tr>\n",
       "    <tr>\n",
       "      <th>3</th>\n",
       "      <td>清水寺</td>\n",
       "      <td>34.994303</td>\n",
       "      <td>135.784439</td>\n",
       "      <td>50</td>\n",
       "    </tr>\n",
       "    <tr>\n",
       "      <th>4</th>\n",
       "      <td>銀閣寺</td>\n",
       "      <td>35.026900</td>\n",
       "      <td>135.798371</td>\n",
       "      <td>40</td>\n",
       "    </tr>\n",
       "    <tr>\n",
       "      <th>5</th>\n",
       "      <td>京都タワー</td>\n",
       "      <td>34.987560</td>\n",
       "      <td>135.759329</td>\n",
       "      <td>30</td>\n",
       "    </tr>\n",
       "    <tr>\n",
       "      <th>6</th>\n",
       "      <td>金閣寺</td>\n",
       "      <td>35.039529</td>\n",
       "      <td>135.729537</td>\n",
       "      <td>40</td>\n",
       "    </tr>\n",
       "    <tr>\n",
       "      <th>7</th>\n",
       "      <td>仁和寺</td>\n",
       "      <td>35.029812</td>\n",
       "      <td>135.714150</td>\n",
       "      <td>50</td>\n",
       "    </tr>\n",
       "    <tr>\n",
       "      <th>8</th>\n",
       "      <td>建仁寺</td>\n",
       "      <td>35.000257</td>\n",
       "      <td>135.773741</td>\n",
       "      <td>50</td>\n",
       "    </tr>\n",
       "  </tbody>\n",
       "</table>\n",
       "</div>"
      ],
      "text/plain": [
       "       地名   latitude   longitude  stay_time\n",
       "0  京都市役所前  35.010899  135.768870          0\n",
       "1    下鴨神社  35.037010  135.772515         20\n",
       "2  伏見稲荷大社  34.967519  135.779710         60\n",
       "3     清水寺  34.994303  135.784439         50\n",
       "4     銀閣寺  35.026900  135.798371         40\n",
       "5   京都タワー  34.987560  135.759329         30\n",
       "6     金閣寺  35.039529  135.729537         40\n",
       "7     仁和寺  35.029812  135.714150         50\n",
       "8     建仁寺  35.000257  135.773741         50"
      ]
     },
     "execution_count": 5,
     "metadata": {},
     "output_type": "execute_result"
    }
   ],
   "source": [
    "import csv\n",
    "import folium\n",
    "import openrouteservice\n",
    "import pandas as pd\n",
    "from geopy.geocoders import Nominatim\n",
    "from branca.element import Figure\n",
    "from openrouteservice import convert\n",
    "\n",
    "geo_list = []\n",
    "geo = pd.read_csv(\"geo_point.csv\")\n",
    "geolocator = Nominatim(user_agent=\"user-id\")\n",
    "for chimei in range(len(geo)):\n",
    "    location = geolocator.geocode(geo.iloc[chimei,0]+\",\"+geo.iloc[chimei,1])\n",
    "    print(location)\n",
    "    geo_list.append([location.address.split(\",\")[0],location.latitude, location.longitude,geo.iloc[chimei,2]])\n",
    "df_list = pd.DataFrame(geo_list, columns=[\"地名\",\"latitude\",\"longitude\",\"stay_time\"])\n",
    "\n",
    "\n",
    "df_list"
   ]
  },
  {
   "cell_type": "code",
   "execution_count": null,
   "metadata": {},
   "outputs": [],
   "source": []
  }
 ],
 "metadata": {
  "kernelspec": {
   "display_name": "only-pip",
   "language": "python",
   "name": "python3"
  },
  "language_info": {
   "codemirror_mode": {
    "name": "ipython",
    "version": 3
   },
   "file_extension": ".py",
   "mimetype": "text/x-python",
   "name": "python",
   "nbconvert_exporter": "python",
   "pygments_lexer": "ipython3",
   "version": "3.11.3"
  }
 },
 "nbformat": 4,
 "nbformat_minor": 2
}
