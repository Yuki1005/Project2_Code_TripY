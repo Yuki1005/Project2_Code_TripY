{
 "cells": [
  {
   "cell_type": "code",
   "execution_count": 36,
   "metadata": {},
   "outputs": [],
   "source": [
    "from urllib.parse import unquote\n",
    "import csv\n",
    "import folium\n",
    "import openrouteservice\n",
    "from branca.element import Figure\n",
    "from openrouteservice import convert\n",
    "import pandas as pd\n",
    "\n",
    "waketa_list = []\n",
    "datalist = []\n",
    "\n",
    "with open('test.txt') as f:\n",
    "    for line in f:\n",
    "        waketa_list.append(line.split(\"/\"))\n",
    "\n",
    "for i in range(len(waketa_list)):\n",
    "    chimei = unquote(waketa_list[i][5])\n",
    "    zahyo_matomari = waketa_list[i][6].split(\",\")\n",
    "    keido = zahyo_matomari[0][1:]\n",
    "    ido = zahyo_matomari[1]\n",
    "    datalist.append([chimei,keido,ido])\n",
    "    \n",
    "df_list = pd.DataFrame(datalist, columns=[\"地名\",\"緯度\",\"経度\"])\n",
    "df_list.to_csv(\"loc_pos.csv\", index=False, encoding=\"utf_8\")"
   ]
  },
  {
   "cell_type": "code",
   "execution_count": 35,
   "metadata": {},
   "outputs": [
    {
     "name": "stdout",
     "output_type": "stream",
     "text": [
      "495.3\n"
     ]
    }
   ],
   "source": [
    "key = \"5b3ce3597851110001cf624804ffaeec7cd246038d01eb4d3a32f633\"\n",
    "client = openrouteservice.Client(key=key)\n",
    "\n",
    "with open(\"loc_pos.csv\", encoding=\"utf_8\") as f:\n",
    "    reader = csv.reader(f)\n",
    "    line = [row for row in reader]\n",
    "\n",
    "for i in range(1):\n",
    "    p1 = float(line[i+1][1]), float(line[i+1][2])\n",
    "    p2 = float(line[i+2][1]), float(line[i+2][2])\n",
    "    p1r = tuple(reversed(p1))\n",
    "    p2r = tuple(reversed(p2))\n",
    "    mean_lat = (p1[0] + p2[0]) / 2\n",
    "    mean_long = (p1[1] + p2[1]) / 2\n",
    "\n",
    "    # 経路計算 (Directions V2)\n",
    "    routedict = client.directions((p1r, p2r),profile=\"foot-walking\")\n",
    "    geom = routedict[\"routes\"][0][\"geometry\"]\n",
    "    decoded = convert.decode_polyline(geom)\n",
    "\n",
    "    print(routedict[\"routes\"][0][\"summary\"][\"duration\"])"
   ]
  }
 ],
 "metadata": {
  "kernelspec": {
   "display_name": "only-pip",
   "language": "python",
   "name": "python3"
  },
  "language_info": {
   "codemirror_mode": {
    "name": "ipython",
    "version": 3
   },
   "file_extension": ".py",
   "mimetype": "text/x-python",
   "name": "python",
   "nbconvert_exporter": "python",
   "pygments_lexer": "ipython3",
   "version": "3.11.3"
  },
  "orig_nbformat": 4
 },
 "nbformat": 4,
 "nbformat_minor": 2
}
